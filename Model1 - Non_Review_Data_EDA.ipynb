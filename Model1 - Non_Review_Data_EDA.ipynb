{
 "cells": [
  {
   "cell_type": "code",
   "execution_count": 1,
   "metadata": {},
   "outputs": [],
   "source": [
    "import pandas as pd\n",
    "from IPython.display import display\n",
    "import matplotlib.pyplot as plt\n",
    "%matplotlib inline\n",
    "from sklearn.feature_extraction.text import TfidfVectorizer\n",
    "import re\n",
    "# Tools for preprocessing input data\n",
    "from bs4 import BeautifulSoup\n",
    "from nltk import word_tokenize\n",
    "from nltk.corpus import stopwords\n",
    "from nltk.stem import WordNetLemmatizer\n",
    "import numpy as np"
   ]
  },
  {
   "cell_type": "code",
   "execution_count": 2,
   "metadata": {},
   "outputs": [],
   "source": [
    "SMALL_SIZE = 12\n",
    "MEDIUM_SIZE = 14\n",
    "BIG_SIZE = 16\n",
    "LARGE_SIZE = 20\n",
    "\n",
    "params = {\n",
    "    'figure.figsize': (16, 8),\n",
    "    'font.size': SMALL_SIZE,\n",
    "    'xtick.labelsize': MEDIUM_SIZE,\n",
    "    'ytick.labelsize': MEDIUM_SIZE,\n",
    "    'legend.fontsize': BIG_SIZE,\n",
    "    'figure.titlesize': LARGE_SIZE,\n",
    "    'axes.titlesize': MEDIUM_SIZE,\n",
    "    'axes.labelsize': BIG_SIZE\n",
    "}\n",
    "plt.rcParams.update(params)"
   ]
  },
  {
   "cell_type": "code",
   "execution_count": 3,
   "metadata": {},
   "outputs": [],
   "source": [
    "from sklearn.ensemble import RandomForestClassifier\n",
    "from sklearn.model_selection import train_test_split\n",
    "import numpy as np\n",
    "\n",
    "from sklearn.model_selection import cross_val_score\n",
    "from sklearn.metrics import precision_recall_curve, roc_curve, auc, precision_recall_fscore_support,precision_score,recall_score,f1_score\n",
    "import random\n",
    "from sklearn.metrics import confusion_matrix\n",
    "\n",
    "\n",
    "pd.set_option('display.max_colwidth', 100)\n",
    "pd.set_option('display.max_columns', 100)\n",
    "pd.set_option('display.max_rows', 1000)\n",
    "\n",
    "plt.style.use('ggplot')\n",
    "\n",
    "def randomised_search_cv(classifier,parameters,df,col_list,labels,num_iter=500):\n",
    "    accuracy_list = []\n",
    "    RSEED = 42\n",
    "    for i in range(num_iter):\n",
    "        \n",
    "        if i%(num_iter/4)==0:\n",
    "            print(str(i)+\"iterations ran\")\n",
    "\n",
    "        param_iter = {}\n",
    "        for key,value in parameters.items():\n",
    "            param_iter[key] = random.choice(value)\n",
    "        clf = classifier(random_state=RSEED, **param_iter)\n",
    "\n",
    "        scores = cross_val_score(clf, df[col_list], labels, cv=5,scoring=\"f1\")\n",
    "        accuracy_list += [(param_iter, np.mean(scores))]\n",
    "\n",
    "    accuracy_list.sort(key = lambda x: x[1])\n",
    "    print(accuracy_list[-1])\n",
    "    return accuracy_list[-1]\n",
    "\n",
    "def generate_prc(y_true, y_proba):\n",
    "    return precision_recall_curve(y_true, y_proba[:, 1])\n",
    "\n",
    "def plot_curves(clf_curves, ctype='roc', legend=False):\n",
    "    clfs = clf_curves.keys()\n",
    "    \n",
    "    fig = plt.figure(figsize=(8, 8))\n",
    "    ax = fig.add_subplot(111)\n",
    "    for clf, curve in clf_curves.items():\n",
    "        if ctype == 'roc':\n",
    "            x = curve[0]\n",
    "            y = curve[1]\n",
    "            xlabel = 'False Positive Rate'\n",
    "            ylabel = 'True Positive Rate'\n",
    "            ax.plot([0, 1], [0, 1], 'k--', lw=1, alpha=0.5)\n",
    "        if ctype == 'prc':\n",
    "            x = curve[1]\n",
    "            y = curve[0]\n",
    "            xlabel = 'Recall'\n",
    "            ylabel = 'Precision'\n",
    "        if 'all' in clf:\n",
    "            ax.plot(x, y, lw=3, color='k', label='%s AUC: %.4f' % (clf, auc(x, y)))\n",
    "        else:\n",
    "            ax.plot(x, y, lw=2, alpha=0.5, label='%s AUC: %.4f' % (clf, auc(x, y)))\n",
    "    ax.set_xlabel(xlabel, fontsize=14)\n",
    "    ax.set_ylabel(ylabel, fontsize=14)\n",
    "    if legend:\n",
    "        ax.legend(loc='best', fontsize=10)\n",
    "    ax.set_xlim(-0.05, 1.05)\n",
    "    ax.set_ylim(-0.05, 1.05)\n",
    "    ax.set_xticks(np.linspace(0, 1, 11))\n",
    "    ax.set_yticks(np.linspace(0, 1, 11))\n",
    "    \n",
    "    \n",
    "def modelbuilder(classifier,parameters,train_data,test_data,col_list,train_labels,test_labels,title):\n",
    "    clf = classifier(**parameters)\n",
    "    trained_model = clf.fit(train_data[col_list], train_labels)\n",
    "    print(\"Precision on train\",precision_score(train_labels,clf.predict(train_data[col_list])) )\n",
    "    print(\"Recall on train\",recall_score(train_labels,clf.predict(train_data[col_list])) )\n",
    "    print(\"F1 score on train\",f1_score(train_labels,clf.predict(train_data[col_list])) )\n",
    "#     params = {\"verbose\":0}\n",
    "    \n",
    "#     trained_model.set_params(**parameters)\n",
    "    y_pred = clf.predict_proba(test_data[col_list])\n",
    "    inc_prc = generate_prc(test_labels, y_pred)\n",
    "    plot_curves({title: inc_prc}, ctype='prc', legend=True)\n",
    "    y_predicted = clf.predict(test_data[col_list])\n",
    "    prec_score= precision_score(test_labels,y_predicted)\n",
    "    rec_score= recall_score(test_labels,y_predicted)\n",
    "    f1 = 2*(prec_score*rec_score)/(prec_score+rec_score)\n",
    "    print(\"Precision on test:\",prec_score)\n",
    "    print(\"Recall on test:\",rec_score)\n",
    "    print(\"F1 Score on test: \",f1)\n",
    "    print(confusion_matrix(test_labels, y_predicted))\n",
    "#     holdout_df = holdout_df.copy()\n",
    "#     holdout_df['is_promoted'] = clf.predict(holdout_df[col_list])\n",
    "#     holdout_df[['employee_id','is_promoted']].to_csv(\"../submissions/\"+title+\".csv\",index=False)"
   ]
  },
  {
   "cell_type": "code",
   "execution_count": 4,
   "metadata": {},
   "outputs": [],
   "source": [
    "train = pd.read_csv(\"../datasets/train.csv\")\n",
    "test = pd.read_csv(\"../datasets/test.csv\")\n",
    "game_overview = pd.read_csv(\"../datasets/game_overview.csv\")"
   ]
  },
  {
   "cell_type": "code",
   "execution_count": 5,
   "metadata": {},
   "outputs": [
    {
     "name": "stdout",
     "output_type": "stream",
     "text": [
      "(17494, 5)\n",
      "Index(['review_id', 'title', 'year', 'user_review', 'user_suggestion'], dtype='object')\n",
      "review_id            0\n",
      "title                0\n",
      "year               178\n",
      "user_review          0\n",
      "user_suggestion      0\n",
      "dtype: int64\n",
      "\n",
      "\n",
      "(8045, 4)\n",
      "Index(['review_id', 'title', 'year', 'user_review'], dtype='object')\n",
      "review_id       0\n",
      "title           0\n",
      "year           67\n",
      "user_review     0\n",
      "dtype: int64\n",
      "\n",
      "\n",
      "(64, 5)\n",
      "Index(['title', 'developer', 'publisher', 'tags', 'overview'], dtype='object')\n",
      "title        0\n",
      "developer    0\n",
      "publisher    0\n",
      "tags         0\n",
      "overview     0\n",
      "dtype: int64\n",
      "\n",
      "\n"
     ]
    }
   ],
   "source": [
    "for i in [train,test,game_overview]:\n",
    "    print(i.shape)\n",
    "    print(i.columns)\n",
    "    print(i.isnull().sum())\n",
    "    print(\"\\n\")\n",
    "    "
   ]
  },
  {
   "cell_type": "code",
   "execution_count": 6,
   "metadata": {},
   "outputs": [
    {
     "data": {
      "image/png": "[encoded data removed]",
      "text/plain": [
       "<Figure size 1152x576 with 1 Axes>"
      ]
     },
     "metadata": {},
     "output_type": "display_data"
    }
   ],
   "source": [
    "plt.hist(train[train.user_suggestion == 1].user_suggestion,\n",
    "         bins=2, color='green', label='Positive')\n",
    "plt.hist(train[train.user_suggestion == 0].user_suggestion,\n",
    "         bins=2, color='blue', label='Negative')\n",
    "plt.title('Classes distribution in the train data', fontsize=SMALL_SIZE)\n",
    "plt.xticks([])\n",
    "plt.xlim(-0.5, 2)\n",
    "plt.legend()\n",
    "plt.show()"
   ]
  },
  {
   "cell_type": "code",
   "execution_count": 7,
   "metadata": {},
   "outputs": [],
   "source": [
    "full_train = pd.merge(train,game_overview,on='title',how='left')\n",
    "full_test = pd.merge(test,game_overview,on='title',how='left')"
   ]
  },
  {
   "cell_type": "code",
   "execution_count": 8,
   "metadata": {},
   "outputs": [
    {
     "data": {
      "text/plain": [
       "Index(['review_id', 'title', 'year', 'user_review', 'user_suggestion',\n",
       "       'developer', 'publisher', 'tags', 'overview'],\n",
       "      dtype='object')"
      ]
     },
     "execution_count": 8,
     "metadata": {},
     "output_type": "execute_result"
    }
   ],
   "source": [
    "full_train.columns"
   ]
  },
  {
   "cell_type": "code",
   "execution_count": 9,
   "metadata": {},
   "outputs": [],
   "source": [
    "train_without_labels = full_train[['year','developer', 'publisher', 'tags', 'overview']]\n",
    "test_without_labels = full_test[['year','developer', 'publisher', 'tags', 'overview']]\n",
    "train_labels = train['user_suggestion']\n",
    "del full_train,full_test"
   ]
  },
  {
   "cell_type": "code",
   "execution_count": 10,
   "metadata": {},
   "outputs": [
    {
     "data": {
      "text/plain": [
       "<matplotlib.axes._subplots.AxesSubplot at 0x7fb82bd1df98>"
      ]
     },
     "execution_count": 10,
     "metadata": {},
     "output_type": "execute_result"
    },
    {
     "data": {
      "image/png": "[encoded data removed]",
      "text/plain": [
       "<Figure size 1152x576 with 1 Axes>"
      ]
     },
     "metadata": {},
     "output_type": "display_data"
    }
   ],
   "source": [
    "pd.Series(list(train['year'].value_counts(dropna=False)), index=list(train['year'].value_counts(dropna=False).index)).plot(kind='bar')"
   ]
  },
  {
   "cell_type": "code",
   "execution_count": 11,
   "metadata": {},
   "outputs": [
    {
     "data": {
      "text/plain": [
       "<matplotlib.axes._subplots.AxesSubplot at 0x7fb82bd1da20>"
      ]
     },
     "execution_count": 11,
     "metadata": {},
     "output_type": "execute_result"
    },
    {
     "data": {
      "image/png": "[encoded data removed]",
      "text/plain": [
       "<Figure size 1152x576 with 1 Axes>"
      ]
     },
     "metadata": {},
     "output_type": "display_data"
    }
   ],
   "source": [
    "pd.Series(list(test['year'].value_counts(dropna=False)), index=list(test['year'].value_counts(dropna=False).index)).plot(kind='bar')"
   ]
  },
  {
   "cell_type": "code",
   "execution_count": 12,
   "metadata": {},
   "outputs": [
    {
     "name": "stdout",
     "output_type": "stream",
     "text": [
      "Mean,Median for columns year in training dataset ->  2016.388426888427 2017.0\n",
      "Mean,Median for columns year in test dataset ->  2016.166207069441 2016.0\n"
     ]
    }
   ],
   "source": [
    "print(\"Mean,Median for columns year in training dataset -> \",train['year'].mean(),train['year'].median())\n",
    "print(\"Mean,Median for columns year in test dataset -> \",test['year'].mean(),test['year'].median())"
   ]
  },
  {
   "cell_type": "code",
   "execution_count": 13,
   "metadata": {},
   "outputs": [
    {
     "data": {
      "text/html": [
       "<div>\n",
       "<style scoped>\n",
       "    .dataframe tbody tr th:only-of-type {\n",
       "        vertical-align: middle;\n",
       "    }\n",
       "\n",
       "    .dataframe tbody tr th {\n",
       "        vertical-align: top;\n",
       "    }\n",
       "\n",
       "    .dataframe thead th {\n",
       "        text-align: right;\n",
       "    }\n",
       "</style>\n",
       "<table border=\"1\" class=\"dataframe\">\n",
       "  <thead>\n",
       "    <tr style=\"text-align: right;\">\n",
       "      <th></th>\n",
       "      <th>year</th>\n",
       "      <th>event_rate</th>\n",
       "    </tr>\n",
       "  </thead>\n",
       "  <tbody>\n",
       "    <tr>\n",
       "      <th>0</th>\n",
       "      <td>2011.0</td>\n",
       "      <td>0.928571</td>\n",
       "    </tr>\n",
       "    <tr>\n",
       "      <th>1</th>\n",
       "      <td>2012.0</td>\n",
       "      <td>0.969231</td>\n",
       "    </tr>\n",
       "    <tr>\n",
       "      <th>2</th>\n",
       "      <td>2013.0</td>\n",
       "      <td>0.805882</td>\n",
       "    </tr>\n",
       "    <tr>\n",
       "      <th>3</th>\n",
       "      <td>2014.0</td>\n",
       "      <td>0.621081</td>\n",
       "    </tr>\n",
       "    <tr>\n",
       "      <th>4</th>\n",
       "      <td>2015.0</td>\n",
       "      <td>0.706504</td>\n",
       "    </tr>\n",
       "    <tr>\n",
       "      <th>5</th>\n",
       "      <td>2016.0</td>\n",
       "      <td>0.506389</td>\n",
       "    </tr>\n",
       "    <tr>\n",
       "      <th>6</th>\n",
       "      <td>2017.0</td>\n",
       "      <td>0.593059</td>\n",
       "    </tr>\n",
       "    <tr>\n",
       "      <th>7</th>\n",
       "      <td>2018.0</td>\n",
       "      <td>0.502074</td>\n",
       "    </tr>\n",
       "  </tbody>\n",
       "</table>\n",
       "</div>"
      ],
      "text/plain": [
       "     year  event_rate\n",
       "0  2011.0    0.928571\n",
       "1  2012.0    0.969231\n",
       "2  2013.0    0.805882\n",
       "3  2014.0    0.621081\n",
       "4  2015.0    0.706504\n",
       "5  2016.0    0.506389\n",
       "6  2017.0    0.593059\n",
       "7  2018.0    0.502074"
      ]
     },
     "execution_count": 13,
     "metadata": {},
     "output_type": "execute_result"
    }
   ],
   "source": [
    "train.groupby('year').agg({'user_suggestion':'mean'}).reset_index().rename(columns={'user_suggestion':'event_rate'})"
   ]
  },
  {
   "cell_type": "code",
   "execution_count": 14,
   "metadata": {},
   "outputs": [],
   "source": [
    "full_without_labels = pd.concat([train_without_labels,test_without_labels])"
   ]
  },
  {
   "cell_type": "code",
   "execution_count": 15,
   "metadata": {},
   "outputs": [],
   "source": [
    "full_without_labels['year'] = full_without_labels.year.fillna(2016)"
   ]
  },
  {
   "cell_type": "code",
   "execution_count": 16,
   "metadata": {},
   "outputs": [],
   "source": [
    "###['year','developer', 'publisher', 'tags', 'overview']"
   ]
  },
  {
   "cell_type": "code",
   "execution_count": 17,
   "metadata": {},
   "outputs": [],
   "source": [
    "for col in ['developer','tags','overview']:\n",
    "    full_without_labels[col] = full_without_labels[col].str.strip().str.lower()\n",
    "full_without_labels_dummy = pd.get_dummies(full_without_labels,columns=['publisher','developer'])"
   ]
  },
  {
   "cell_type": "code",
   "execution_count": 18,
   "metadata": {},
   "outputs": [
    {
     "data": {
      "text/plain": [
       "(54, 59)"
      ]
     },
     "execution_count": 18,
     "metadata": {},
     "output_type": "execute_result"
    }
   ],
   "source": [
    "publisher_columns = [x for x in full_without_labels_dummy.columns if x.startswith('publisher')]\n",
    "developer_columns = [x for x in full_without_labels_dummy.columns if x.startswith('developer')]\n",
    "len(publisher_columns),len(developer_columns)"
   ]
  },
  {
   "cell_type": "code",
   "execution_count": 19,
   "metadata": {},
   "outputs": [
    {
     "name": "stdout",
     "output_type": "stream",
     "text": [
      "161\n"
     ]
    }
   ],
   "source": [
    "full_without_labels[\"tags2\"] = list(map(lambda x: re.sub(\"'\",\"\",x[1:-1].strip().lower()).split(\",\") , full_without_labels[\"tags\"]))\n",
    "\n",
    "tag_list = []\n",
    "for i in range(len(full_without_labels)):\n",
    "    tag_list += full_without_labels['tags2'].iloc[i]\n",
    "    \n",
    "tag_list = list(set([x.strip() for x in tag_list]))\n",
    "print(len(tag_list))"
   ]
  },
  {
   "cell_type": "code",
   "execution_count": 20,
   "metadata": {},
   "outputs": [],
   "source": [
    "for item in tag_list:\n",
    "    full_without_labels[\"tag|||\"+item]= list(map(lambda x: 1 if item in x.lower() else 0, full_without_labels['tags']))"
   ]
  },
  {
   "cell_type": "code",
   "execution_count": 21,
   "metadata": {},
   "outputs": [],
   "source": [
    "def clean_review(raw_review: str) -> str:\n",
    "    # 1. Remove HTML\n",
    "    review_text = BeautifulSoup(raw_review, \"lxml\").get_text()\n",
    "    # 2. Remove non-letters\n",
    "    letters_only = REPLACE_WITH_SPACE.sub(\" \", review_text)\n",
    "    # 3. Convert to lower case\n",
    "    lowercase_letters = letters_only.lower()\n",
    "    return lowercase_letters\n",
    "\n",
    "\n",
    "def lemmatize(tokens: list) -> list:\n",
    "    # 1. Lemmatize\n",
    "    tokens = list(map(lemmatizer.lemmatize, tokens))\n",
    "    lemmatized_tokens = list(map(lambda x: lemmatizer.lemmatize(x, \"v\"), tokens))\n",
    "    # 2. Remove stop words\n",
    "    meaningful_words = list(filter(lambda x: not x in stop_words, lemmatized_tokens))\n",
    "    return meaningful_words\n",
    "\n",
    "\n",
    "def preprocess(review: str, total: int, show_progress: bool = True) -> list:\n",
    "    if show_progress:\n",
    "        global counter\n",
    "        counter += 1\n",
    "        print('Processing... %6i/%6i'% (counter, total), end='\\r')\n",
    "    # 1. Clean text\n",
    "    review = clean_review(review)\n",
    "    # 2. Split into individual words\n",
    "    tokens = word_tokenize(review)\n",
    "    # 3. Lemmatize\n",
    "    lemmas = lemmatize(tokens)\n",
    "    # 4. Join the words back into one string separated by space,\n",
    "    # and return the result.\n",
    "    return lemmas"
   ]
  },
  {
   "cell_type": "code",
   "execution_count": 22,
   "metadata": {},
   "outputs": [],
   "source": [
    "counter = 0\n",
    "REPLACE_WITH_SPACE = re.compile(r'[^A-Za-z\\s]')\n",
    "stop_words = set(stopwords.words(\"english\")) \n",
    "lemmatizer = WordNetLemmatizer()"
   ]
  },
  {
   "cell_type": "code",
   "execution_count": 23,
   "metadata": {},
   "outputs": [],
   "source": [
    "full_without_labels['overview2'] = list(map(lambda x: REPLACE_WITH_SPACE.sub(\" \",x), full_without_labels['overview']))"
   ]
  },
  {
   "cell_type": "code",
   "execution_count": 24,
   "metadata": {},
   "outputs": [],
   "source": [
    "word_vect1 = TfidfVectorizer(strip_accents ='unicode', \n",
    "                            min_df=5,max_df=0.9999,\n",
    "                            stop_words='english', \n",
    "                            analyzer='word', \n",
    "                            ngram_range = (1,4), \n",
    "                            sublinear_tf = True)"
   ]
  },
  {
   "cell_type": "code",
   "execution_count": 25,
   "metadata": {},
   "outputs": [],
   "source": [
    "word_vect1.fit(full_without_labels['overview2'])\n",
    "all_overview_tfidf = word_vect1.transform(full_without_labels['overview2'])"
   ]
  },
  {
   "cell_type": "code",
   "execution_count": 26,
   "metadata": {},
   "outputs": [
    {
     "name": "stdout",
     "output_type": "stream",
     "text": [
      "34077\n",
      "Some elements of feature names in word vectorizer are:\n",
      "['abilities' 'abilities customize appearance' 'abilities make mark' ...\n",
      " 'yasuda mizuho' 'yggdrasil controlled managed' 'yugi kaiba joey mai']\n",
      "\n"
     ]
    }
   ],
   "source": [
    "feature_names1 = np.array(word_vect1.get_feature_names())\n",
    "print(len(word_vect1.get_feature_names()))\n",
    "print('Some elements of feature names in word vectorizer are:\\n{}\\n'.format(feature_names1[::20]))"
   ]
  },
  {
   "cell_type": "code",
   "execution_count": 27,
   "metadata": {},
   "outputs": [
    {
     "name": "stdout",
     "output_type": "stream",
     "text": [
      "Words with smallest tfidf:\n",
      "['thing' 'rapid' 'examples' 'engaging' 'flow' 'guns world' 'dream'\n",
      " 'models unlocked' 'models spending dime' 'models unlocked free'\n",
      " 'arisakaosv karabiner' 'modelsbikecaptain'\n",
      " 'arisakaosv karabiner machine gunm' 'arisakaosv karabiner machine'\n",
      " 'models spending' 'models spending dime available'\n",
      " 'models unlocked free power' 'learning aid armorers law'\n",
      " 'models pistolsglock cz colt' 'modelsbikecaptain americaducati']\n",
      "\n",
      "Words with largest tfidf: \n",
      "['smite' 'cs' 'apocalypse' 'paladins' 'poker' 'basketball' 'wait'\n",
      " 'deck scratch' 'scratch battle' 'draft deck scratch battle'\n",
      " 'deck scratch battle' 'draft deck scratch' 'draft deck' 'vault'\n",
      " 'business' 'dota' 'bloons' 'dragon' 'digimons']\n"
     ]
    }
   ],
   "source": [
    "sorted_tfidf_index = all_overview_tfidf.max(0).toarray()[0].argsort()\n",
    "print('Words with smallest tfidf:\\n{}\\n'.format(feature_names1[sorted_tfidf_index[:20]]))\n",
    "print('Words with largest tfidf: \\n{}'.format(feature_names1[sorted_tfidf_index[:-20:-1]]))"
   ]
  },
  {
   "cell_type": "code",
   "execution_count": 30,
   "metadata": {},
   "outputs": [],
   "source": [
    "dev_tag_pub_data = pd.merge(full_without_labels[[\"tag|||\"+x for x in tag_list]], full_without_labels_dummy[developer_columns+publisher_columns+['year']],left_index=True,right_index=True,how=\"left\")"
   ]
  }
 ],
 "metadata": {
  "kernelspec": {
   "display_name": "Python 3",
   "language": "python",
   "name": "python3"
  },
  "language_info": {
   "codemirror_mode": {
    "name": "ipython",
    "version": 3
   },
   "file_extension": ".py",
   "mimetype": "text/x-python",
   "name": "python",
   "nbconvert_exporter": "python",
   "pygments_lexer": "ipython3",
   "version": "3.7.3"
  }
 },
 "nbformat": 4,
 "nbformat_minor": 2
}
